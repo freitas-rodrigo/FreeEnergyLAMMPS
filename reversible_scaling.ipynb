{
 "cells": [
  {
   "cell_type": "code",
   "execution_count": 1,
   "metadata": {},
   "outputs": [],
   "source": [
    "%matplotlib inline"
   ]
  },
  {
   "cell_type": "code",
   "execution_count": 2,
   "metadata": {},
   "outputs": [],
   "source": [
    "import matplotlib.pyplot as plt \n",
    "from numpy import *\n",
    "import subprocess\n",
    "import scipy.constants as sc\n",
    "from scipy.integrate import cumtrapz"
   ]
  },
  {
   "cell_type": "code",
   "execution_count": 3,
   "metadata": {},
   "outputs": [
    {
     "data": {
      "text/plain": [
       "b''"
      ]
     },
     "execution_count": 3,
     "metadata": {},
     "output_type": "execute_result"
    }
   ],
   "source": [
    "subprocess.check_output(\"bash job.sh\", shell=True, cwd=\"./reversible_scaling\")"
   ]
  },
  {
   "cell_type": "code",
   "execution_count": 4,
   "metadata": {},
   "outputs": [],
   "source": [
    "T0 = 100 # Reference temperature [K]\n",
    "kB = sc.value('Boltzmann constant in eV/K') "
   ]
  },
  {
   "cell_type": "code",
   "execution_count": 5,
   "metadata": {},
   "outputs": [],
   "source": [
    "# Load free energy reference value.\n",
    "T, F0 = loadtxt('./frenkel_ladd/data/free_energy.dat', unpack=True)\n",
    "F0 = F0[T==T0]"
   ]
  },
  {
   "cell_type": "code",
   "execution_count": 6,
   "metadata": {},
   "outputs": [],
   "source": [
    "# Load potential energy and lambda.\n",
    "U_f, lamb_f = loadtxt('./reversible_scaling/data/forward.dat', unpack=True)\n",
    "U_b, lamb_b = loadtxt('./reversible_scaling/data/backward.dat', unpack=True)"
   ]
  },
  {
   "cell_type": "code",
   "execution_count": 7,
   "metadata": {},
   "outputs": [],
   "source": [
    "# Fix adapt also scales the potential energy besides the forces, so we unscale.\n",
    "U_f /= lamb_f\n",
    "U_b /= lamb_b"
   ]
  },
  {
   "cell_type": "code",
   "execution_count": 8,
   "metadata": {},
   "outputs": [],
   "source": [
    "# Compute work done using cummulative integrals [Eq.(21) in the paper].\n",
    "I_f = cumtrapz(U_f,lamb_f,initial=0)\n",
    "I_b = cumtrapz(U_b[::-1],lamb_b[::-1],initial=0)\n",
    "W = (I_f+I_b) / (2*lamb_f)"
   ]
  },
  {
   "cell_type": "code",
   "execution_count": 9,
   "metadata": {},
   "outputs": [],
   "source": [
    "# Compute free energy [Eq.(22) in the paper] and save results.\n",
    "T = T0 / lamb_f\n",
    "F = F0/lamb_f + 1.5*kB*T*log(lamb_f) + W\n",
    "savetxt('./reversible_scaling/data/free_energy.dat', transpose([T,F]),\n",
    "        header='T [K] F [eV/atom]', fmt='%6.1f %.4f')"
   ]
  },
  {
   "cell_type": "code",
   "execution_count": 10,
   "metadata": {},
   "outputs": [],
   "source": [
    "c = ['#E41A1C','#377EB8','#4DAF4A','#984EA3','#FF7F00','#FFFF33','#A65628','#F781BF','#999999']"
   ]
  },
  {
   "cell_type": "code",
   "execution_count": 11,
   "metadata": {},
   "outputs": [],
   "source": [
    "################################################################################\n",
    "# Load data.                                                                   #\n",
    "################################################################################\n",
    "\n",
    "T_rs, F_rs = loadtxt('./reversible_scaling/data/free_energy.dat', unpack=True)\n",
    "T_fl, F_fl = loadtxt('./frenkel_ladd/data/free_energy.dat', unpack=True, usecols=[0,1])"
   ]
  },
  {
   "cell_type": "code",
   "execution_count": 12,
   "metadata": {},
   "outputs": [
    {
     "data": {
      "image/png": "[encoded data removed]",
      "text/plain": [
       "<Figure size 432x288 with 1 Axes>"
      ]
     },
     "metadata": {
      "needs_background": "light"
     },
     "output_type": "display_data"
    }
   ],
   "source": [
    "################################################################################\n",
    "# Plot.                                                                        #\n",
    "################################################################################\n",
    "\n",
    "# Start figure.\n",
    "fig = plt.figure()\n",
    "ax = fig.add_axes([0.15,0.15,0.80,0.80])\n",
    "\n",
    "# Plot.\n",
    "ax.plot(T_rs, F_rs, '-', c='k', lw=1, label='Reversible Scaling')\n",
    "ax.plot(T_fl, F_fl, 'o', c=c[0], label='Frenkel-Ladd')\n",
    " \n",
    "# Add details and save figure.\n",
    "ax.set_xlabel(r'Temperature [K]')\n",
    "ax.set_ylabel(r'Free energy [eV/atom]')\n",
    "ax.legend(loc='best', frameon=False)\n",
    "fig.savefig(\"fig_free_energy_vs_temperature.png\", dpi=300)\n",
    "\n",
    "################################################################################\n",
    "\n"
   ]
  },
  {
   "cell_type": "code",
   "execution_count": null,
   "metadata": {},
   "outputs": [],
   "source": []
  }
 ],
 "metadata": {
  "kernelspec": {
   "display_name": "Python 3",
   "language": "python",
   "name": "python3"
  },
  "language_info": {
   "codemirror_mode": {
    "name": "ipython",
    "version": 3
   },
   "file_extension": ".py",
   "mimetype": "text/x-python",
   "name": "python",
   "nbconvert_exporter": "python",
   "pygments_lexer": "ipython3",
   "version": "3.7.8"
  }
 },
 "nbformat": 4,
 "nbformat_minor": 4
}
