{
 "cells": [
  {
   "cell_type": "code",
   "execution_count": 1,
   "metadata": {},
   "outputs": [],
   "source": [
    "%matplotlib inline"
   ]
  },
  {
   "cell_type": "code",
   "execution_count": 2,
   "metadata": {},
   "outputs": [],
   "source": [
    "import matplotlib.pyplot as plt    \n",
    "from numpy import *\n",
    "import subprocess\n",
    "import scipy.constants as sc"
   ]
  },
  {
   "cell_type": "code",
   "execution_count": 3,
   "metadata": {},
   "outputs": [
    {
     "data": {
      "text/plain": [
       "b'Running T = 100K simulation.\\nRunning T = 400K simulation.\\nRunning T = 700K simulation.\\nRunning T = 1000K simulation.\\nRunning T = 1300K simulation.\\nRunning T = 1600K simulation.\\n'"
      ]
     },
     "execution_count": 3,
     "metadata": {},
     "output_type": "execute_result"
    }
   ],
   "source": [
    "subprocess.check_output(\"bash job.sh\", shell=True, cwd=\"./frenkel_ladd\")"
   ]
  },
  {
   "cell_type": "code",
   "execution_count": 4,
   "metadata": {},
   "outputs": [],
   "source": [
    "# Input parameters.\n",
    "T = array([100,400,700,1000,1300,1600]) # [K].\n",
    "a = array([2.8841,2.9115,2.9315,2.9484,2.9637,2.9782]) # [A].\n",
    "k = array([5.787,4.866,4.073,3.373,2.799,2.443]) # [eV/A^2].\n",
    "m = 55.845 # Iron mass [g/mol].\n",
    "natoms = 250 # Number of atoms."
   ]
  },
  {
   "cell_type": "code",
   "execution_count": 5,
   "metadata": {},
   "outputs": [],
   "source": [
    "# Physical constants.\n",
    "kB = sc.value('Boltzmann constant in eV/K')\n",
    "eV = sc.value('electron volt')\n",
    "hbar = sc.value('Planck constant over 2 pi in eV s')\n",
    "mu = sc.value('atomic mass constant')"
   ]
  },
  {
   "cell_type": "code",
   "execution_count": 6,
   "metadata": {},
   "outputs": [],
   "source": [
    "################################################################################\n",
    "# Lambda integration [Eq.(12) in the paper].\n",
    "################################################################################\n",
    "\n",
    "W = zeros(len(T)) # Reversible work for each temperature.\n",
    "for i in range(len(T)):\n",
    "    # Forward integration.\n",
    "    dE, lamb = loadtxt('./frenkel_ladd/data/forward_%dK.dat' % T[i], unpack=True)\n",
    "    I_forw = trapz(dE,lamb)\n",
    "    # Backward integration.\n",
    "    dE, lamb = loadtxt('./frenkel_ladd/data/backward_%dK.dat' % T[i], unpack=True)\n",
    "    I_back = trapz(dE,lamb)\n",
    "    # Compute reversible work.\n",
    "    W[i] = (I_forw-I_back) / 2"
   ]
  },
  {
   "cell_type": "code",
   "execution_count": 7,
   "metadata": {},
   "outputs": [],
   "source": [
    "################################################################################\n",
    "# Compute free energy.\n",
    "################################################################################\n",
    "\n",
    "# Define harmonic reference system free energy [Eq.(15) in the paper].\n",
    "omega = sqrt(k*eV/(m*mu)) * 1.0e+10 # [1/s].\n",
    "F_harm = 3*natoms*kB*T * log(hbar*omega/(kB*T)) # [eV].\n",
    "\n",
    "# Fixed center of mass correction [Eq.(24) in the paper].\n",
    "V = (a**3/2) * natoms # Total volume.\n",
    "F_CM = (kB*T)*log((natoms/V) * (2*pi*kB*T / (natoms*m*omega**2))**(3/2)) # [eV].\n",
    "\n",
    "# Compute absolute free energy per atom [Eq.(16) in the paper] and save data.\n",
    "F = (F_harm + W + F_CM) / natoms # [eV/atom].\n",
    "savetxt('./frenkel_ladd/data/free_energy.dat', transpose([T,F]),\n",
    "        header='T [K] F [eV/atom]', fmt='%4d %.4f')\n",
    "\n",
    "################################################################################\n",
    "\n"
   ]
  },
  {
   "cell_type": "code",
   "execution_count": 8,
   "metadata": {},
   "outputs": [],
   "source": [
    "c = ['#E41A1C','#377EB8','#4DAF4A','#984EA3','#FF7F00','#FFFF33','#A65628','#F781BF','#999999']"
   ]
  },
  {
   "cell_type": "code",
   "execution_count": 9,
   "metadata": {},
   "outputs": [],
   "source": [
    "################################################################################\n",
    "# Load data.                                                                   #\n",
    "################################################################################\n",
    "\n",
    "T, F = loadtxt('./frenkel_ladd/data/free_energy.dat', unpack=True)"
   ]
  },
  {
   "cell_type": "code",
   "execution_count": 10,
   "metadata": {},
   "outputs": [
    {
     "data": {
      "image/png": "[encoded data removed]",
      "text/plain": [
       "<Figure size 432x288 with 1 Axes>"
      ]
     },
     "metadata": {
      "needs_background": "light"
     },
     "output_type": "display_data"
    }
   ],
   "source": [
    "################################################################################\n",
    "# Plot.                                                                        #\n",
    "################################################################################\n",
    "\n",
    "# Start figure.\n",
    "fig = plt.figure()\n",
    "ax = fig.add_axes([0.15,0.15,0.80,0.80])\n",
    "\n",
    "# Plot.\n",
    "ax.plot(T, F, 'o', c=c[0], lw=1)\n",
    " \n",
    "# Add details and save figure.\n",
    "ax.set_xlabel(r'Temperature [K]')\n",
    "ax.set_ylabel(r'Free energy [eV/atom]')\n",
    "fig.savefig(\"fig_free_energy_vs_temperature.png\", dpi=300)\n",
    "################################################################################\n",
    "\n"
   ]
  },
  {
   "cell_type": "code",
   "execution_count": null,
   "metadata": {},
   "outputs": [],
   "source": []
  }
 ],
 "metadata": {
  "kernelspec": {
   "display_name": "Python 3",
   "language": "python",
   "name": "python3"
  },
  "language_info": {
   "codemirror_mode": {
    "name": "ipython",
    "version": 3
   },
   "file_extension": ".py",
   "mimetype": "text/x-python",
   "name": "python",
   "nbconvert_exporter": "python",
   "pygments_lexer": "ipython3",
   "version": "3.7.8"
  }
 },
 "nbformat": 4,
 "nbformat_minor": 4
}
